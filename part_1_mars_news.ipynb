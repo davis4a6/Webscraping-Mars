{
 "cells": [
  {
   "cell_type": "markdown",
   "metadata": {},
   "source": [
    "# Module 12 Challenge\n",
    "## Deliverable 1: Scrape Titles and Preview Text from Mars News"
   ]
  },
  {
   "cell_type": "code",
   "execution_count": 1,
   "metadata": {},
   "outputs": [],
   "source": [
    "# Import Splinter and BeautifulSoup\n",
    "from splinter import Browser\n",
    "from bs4 import BeautifulSoup as soup\n",
    "from webdriver_manager.chrome import ChromeDriverManager"
   ]
  },
  {
   "cell_type": "code",
   "execution_count": 2,
   "metadata": {
    "scrolled": true
   },
   "outputs": [],
   "source": [
    "executable_path = {'executable_path': ChromeDriverManager().install()}\n",
    "browser = Browser('chrome', **executable_path, headless=False)"
   ]
  },
  {
   "cell_type": "markdown",
   "metadata": {},
   "source": [
    "### Step 1: Visit the Website\n",
    "\n",
    "1. Use automated browsing to visit the [Mars NASA news site](https://redplanetscience.com). Inspect the page to identify which elements to scrape.\n",
    "\n",
    "      > **Hint** To identify which elements to scrape, you might want to inspect the page by using Chrome DevTools."
   ]
  },
  {
   "cell_type": "code",
   "execution_count": 15,
   "metadata": {},
   "outputs": [],
   "source": [
    "# Visit the Mars NASA news site: https://redplanetscience.com\n",
    "url = 'https://redplanetscience.com'\n",
    "browser.visit(url)"
   ]
  },
  {
   "cell_type": "markdown",
   "metadata": {},
   "source": [
    "### Step 2: Scrape the Website\n",
    "\n",
    "Create a Beautiful Soup object and use it to extract text elements from the website."
   ]
  },
  {
   "cell_type": "code",
   "execution_count": 51,
   "metadata": {},
   "outputs": [],
   "source": [
    "# Create a Beautiful Soup object\n",
    "html = browser.html\n",
    "html_soup = soup(html, 'html.parser')"
   ]
  },
  {
   "cell_type": "code",
   "execution_count": 52,
   "metadata": {},
   "outputs": [
    {
     "data": {
      "text/plain": [
       "[<div class=\"list_text\">\n",
       " <div class=\"list_date\">February 10, 2023</div>\n",
       " <div class=\"content_title\">NASA's Briefcase-Size MarCO Satellite Picks Up Honors</div>\n",
       " <div class=\"article_teaser_body\">The twin spacecraft, the first of their kind to fly into deep space, earn a Laureate from Aviation Week &amp; Space Technology.</div>\n",
       " </div>,\n",
       " <div class=\"list_text\">\n",
       " <div class=\"list_date\">February 9, 2023</div>\n",
       " <div class=\"content_title\">NASA's Curiosity Takes Selfie With 'Mary Anning' on the Red Planet</div>\n",
       " <div class=\"article_teaser_body\">The Mars rover has drilled three samples of rock in this clay-enriched region since arriving in July.</div>\n",
       " </div>,\n",
       " <div class=\"list_text\">\n",
       " <div class=\"list_date\">February 6, 2023</div>\n",
       " <div class=\"content_title\">Join NASA for the Launch of the Mars 2020 Perseverance Rover</div>\n",
       " <div class=\"article_teaser_body\">No matter where you live, choose from a menu of activities to join NASA as we \"Countdown to Mars\" and launch the Perseverance rover to the Red Planet.</div>\n",
       " </div>,\n",
       " <div class=\"list_text\">\n",
       " <div class=\"list_date\">February 4, 2023</div>\n",
       " <div class=\"content_title\">What's Mars Solar Conjunction, and Why Does It Matter?</div>\n",
       " <div class=\"article_teaser_body\">NASA spacecraft at Mars are going to be on their own for a few weeks when the Sun comes between Mars and Earth, interrupting communications.</div>\n",
       " </div>,\n",
       " <div class=\"list_text\">\n",
       " <div class=\"list_date\">February 2, 2023</div>\n",
       " <div class=\"content_title\">NASA's Mars Helicopter Attached to Mars 2020 Rover </div>\n",
       " <div class=\"article_teaser_body\">The helicopter will be first aircraft to perform flight tests on another planet.</div>\n",
       " </div>,\n",
       " <div class=\"list_text\">\n",
       " <div class=\"list_date\">February 1, 2023</div>\n",
       " <div class=\"content_title\">NASA's Curiosity Mars Rover Snaps Its Highest-Resolution Panorama Yet</div>\n",
       " <div class=\"article_teaser_body\">To go along with the stunning 1.8-billion-pixel image, a new video offers a sweeping view of the Red Planet.</div>\n",
       " </div>,\n",
       " <div class=\"list_text\">\n",
       " <div class=\"list_date\">January 28, 2023</div>\n",
       " <div class=\"content_title\">Common Questions about InSight's 'Mole'</div>\n",
       " <div class=\"article_teaser_body\">The following Q&amp;As with members of the team answer some of the most common questions about the burrowing device, part of a science instrument called the Heat Flow and Physical Properties Package (HP3).</div>\n",
       " </div>,\n",
       " <div class=\"list_text\">\n",
       " <div class=\"list_date\">January 26, 2023</div>\n",
       " <div class=\"content_title\">NASA's Treasure Map for Water Ice on Mars</div>\n",
       " <div class=\"article_teaser_body\">A new study identifies frozen water just below the Martian surface, where astronauts could easily dig it up.</div>\n",
       " </div>,\n",
       " <div class=\"list_text\">\n",
       " <div class=\"list_date\">January 19, 2023</div>\n",
       " <div class=\"content_title\">NASA's Perseverance Rover Will Peer Beneath Mars' Surface </div>\n",
       " <div class=\"article_teaser_body\">The agency's newest rover will use the first ground-penetrating radar instrument on the Martian surface to help search for signs of past microbial life. </div>\n",
       " </div>,\n",
       " <div class=\"list_text\">\n",
       " <div class=\"list_date\">January 18, 2023</div>\n",
       " <div class=\"content_title\">Naming a NASA Mars Rover Can Change Your Life</div>\n",
       " <div class=\"article_teaser_body\">Want to name the robotic scientist NASA is sending to Mars in 2020? The student who named Curiosity — the rover currently exploring Mars — will tell you this is an opportunity worth taking.</div>\n",
       " </div>,\n",
       " <div class=\"list_text\">\n",
       " <div class=\"list_date\">January 18, 2023</div>\n",
       " <div class=\"content_title\">The Launch Is Approaching for NASA's Next Mars Rover, Perseverance</div>\n",
       " <div class=\"article_teaser_body\">The Red Planet's surface has been visited by eight NASA spacecraft. The ninth will be the first that includes a roundtrip ticket in its flight plan. </div>\n",
       " </div>,\n",
       " <div class=\"list_text\">\n",
       " <div class=\"list_date\">January 14, 2023</div>\n",
       " <div class=\"content_title\">NASA-JPL Names 'Rolling Stones Rock' on Mars</div>\n",
       " <div class=\"article_teaser_body\">NASA's Mars InSight mission honored one of the biggest bands of all time at Pasadena concert.</div>\n",
       " </div>,\n",
       " <div class=\"list_text\">\n",
       " <div class=\"list_date\">January 12, 2023</div>\n",
       " <div class=\"content_title\">NASA's Mars 2020 Rover Completes Its First Drive</div>\n",
       " <div class=\"article_teaser_body\">In a 10-plus-hour marathon, the rover steered, turned and drove in 3-foot (1-meter) increments over small ramps.</div>\n",
       " </div>,\n",
       " <div class=\"list_text\">\n",
       " <div class=\"list_date\">January 12, 2023</div>\n",
       " <div class=\"content_title\">InSight's 'Mole' Team Peers into the Pit</div>\n",
       " <div class=\"article_teaser_body\">Efforts to save the heat probe continue.</div>\n",
       " </div>,\n",
       " <div class=\"list_text\">\n",
       " <div class=\"list_date\">January 10, 2023</div>\n",
       " <div class=\"content_title\">NASA's Perseverance Rover 100 Days Out</div>\n",
       " <div class=\"article_teaser_body\">Mark your calendars: The agency's latest rover has only about 8,640,000 seconds to go before it touches down on the Red Planet, becoming history's next Mars car.</div>\n",
       " </div>]"
      ]
     },
     "execution_count": 52,
     "metadata": {},
     "output_type": "execute_result"
    }
   ],
   "source": [
    "# Extract all the text elements\n",
    "text_elems = html_soup.find_all('div', class_='list_text')\n",
    "text_elems"
   ]
  },
  {
   "cell_type": "markdown",
   "metadata": {},
   "source": [
    "### Step 3: Store the Results\n",
    "\n",
    "Extract the titles and preview text of the news articles that you scraped. Store the scraping results in Python data structures as follows:\n",
    "\n",
    "* Store each title-and-preview pair in a Python dictionary. And, give each dictionary two keys: `title` and `preview`. An example is the following:\n",
    "\n",
    "  ```python\n",
    "  {'title': \"Mars Rover Begins Mission!\", \n",
    "        'preview': \"NASA's Mars Rover begins a multiyear mission to collect data about the little-explored planet.\"}\n",
    "  ```\n",
    "\n",
    "* Store all the dictionaries in a Python list.\n",
    "\n",
    "* Print the list in your notebook."
   ]
  },
  {
   "cell_type": "code",
   "execution_count": 53,
   "metadata": {},
   "outputs": [],
   "source": [
    "# Create an empty list to store the dictionaries\n",
    "mars_news = []"
   ]
  },
  {
   "cell_type": "code",
   "execution_count": 54,
   "metadata": {},
   "outputs": [],
   "source": [
    "# Loop through the text elements\n",
    "# Extract the title and preview text from the elements\n",
    "# Store each title and preview pair in a dictionary\n",
    "# Add the dictionary to the list\n",
    "for elem in text_elems:\n",
    "    mars_data={\"title\":\"\",\"preview\":\"\"}\n",
    "    title=elem.find('div',class_='content_title').text\n",
    "    preview=elem.find('div',class_='article_teaser_body').text\n",
    "    mars_data[\"title\"] = title\n",
    "    mars_data[\"preview\"] = preview\n",
    "    mars_news.append(mars_data)"
   ]
  },
  {
   "cell_type": "code",
   "execution_count": 55,
   "metadata": {},
   "outputs": [
    {
     "name": "stdout",
     "output_type": "stream",
     "text": [
      "[{'title': \"NASA's Briefcase-Size MarCO Satellite Picks Up Honors\", 'preview': 'The twin spacecraft, the first of their kind to fly into deep space, earn a Laureate from Aviation Week & Space Technology.'}, {'title': \"NASA's Curiosity Takes Selfie With 'Mary Anning' on the Red Planet\", 'preview': 'The Mars rover has drilled three samples of rock in this clay-enriched region since arriving in July.'}, {'title': 'Join NASA for the Launch of the Mars 2020 Perseverance Rover', 'preview': 'No matter where you live, choose from a menu of activities to join NASA as we \"Countdown to Mars\" and launch the Perseverance rover to the Red Planet.'}, {'title': \"What's Mars Solar Conjunction, and Why Does It Matter?\", 'preview': 'NASA spacecraft at Mars are going to be on their own for a few weeks when the Sun comes between Mars and Earth, interrupting communications.'}, {'title': \"NASA's Mars Helicopter Attached to Mars 2020 Rover \", 'preview': 'The helicopter will be first aircraft to perform flight tests on another planet.'}, {'title': \"NASA's Curiosity Mars Rover Snaps Its Highest-Resolution Panorama Yet\", 'preview': 'To go along with the stunning 1.8-billion-pixel image, a new video offers a sweeping view of the Red Planet.'}, {'title': \"Common Questions about InSight's 'Mole'\", 'preview': 'The following Q&As with members of the team answer some of the most common questions about the burrowing device, part of a science instrument called the Heat Flow and Physical Properties Package (HP3).'}, {'title': \"NASA's Treasure Map for Water Ice on Mars\", 'preview': 'A new study identifies frozen water just below the Martian surface, where astronauts could easily dig it up.'}, {'title': \"NASA's Perseverance Rover Will Peer Beneath Mars' Surface \", 'preview': \"The agency's newest rover will use the first ground-penetrating radar instrument on the Martian surface to help search for signs of past microbial life. \"}, {'title': 'Naming a NASA Mars Rover Can Change Your Life', 'preview': 'Want to name the robotic scientist NASA is sending to Mars in 2020? The student who named Curiosity — the rover currently exploring Mars — will tell you this is an opportunity worth taking.'}, {'title': \"The Launch Is Approaching for NASA's Next Mars Rover, Perseverance\", 'preview': \"The Red Planet's surface has been visited by eight NASA spacecraft. The ninth will be the first that includes a roundtrip ticket in its flight plan. \"}, {'title': \"NASA-JPL Names 'Rolling Stones Rock' on Mars\", 'preview': \"NASA's Mars InSight mission honored one of the biggest bands of all time at Pasadena concert.\"}, {'title': \"NASA's Mars 2020 Rover Completes Its First Drive\", 'preview': 'In a 10-plus-hour marathon, the rover steered, turned and drove in 3-foot (1-meter) increments over small ramps.'}, {'title': \"InSight's 'Mole' Team Peers into the Pit\", 'preview': 'Efforts to save the heat probe continue.'}, {'title': \"NASA's Perseverance Rover 100 Days Out\", 'preview': \"Mark your calendars: The agency's latest rover has only about 8,640,000 seconds to go before it touches down on the Red Planet, becoming history's next Mars car.\"}]\n"
     ]
    }
   ],
   "source": [
    "# Print the list to confirm success\n",
    "print(mars_news)"
   ]
  },
  {
   "cell_type": "code",
   "execution_count": 56,
   "metadata": {},
   "outputs": [],
   "source": [
    "browser.quit()"
   ]
  },
  {
   "cell_type": "markdown",
   "metadata": {},
   "source": [
    "### (Optional) Step 4: Export the Data\n",
    "\n",
    "Optionally, store the scraped data in a file or database (to ease sharing the data with others). To do so, export the scraped data to either a JSON file or a MongoDB database."
   ]
  },
  {
   "cell_type": "code",
   "execution_count": 66,
   "metadata": {},
   "outputs": [
    {
     "name": "stdout",
     "output_type": "stream",
     "text": [
      "[{\"title\": \"NASA's Briefcase-Size MarCO Satellite Picks Up Honors\", \"preview\": \"The twin spacecraft, the first of their kind to fly into deep space, earn a Laureate from Aviation Week & Space Technology.\"}, {\"title\": \"NASA's Curiosity Takes Selfie With 'Mary Anning' on the Red Planet\", \"preview\": \"The Mars rover has drilled three samples of rock in this clay-enriched region since arriving in July.\"}, {\"title\": \"Join NASA for the Launch of the Mars 2020 Perseverance Rover\", \"preview\": \"No matter where you live, choose from a menu of activities to join NASA as we \\\"Countdown to Mars\\\" and launch the Perseverance rover to the Red Planet.\"}, {\"title\": \"What's Mars Solar Conjunction, and Why Does It Matter?\", \"preview\": \"NASA spacecraft at Mars are going to be on their own for a few weeks when the Sun comes between Mars and Earth, interrupting communications.\"}, {\"title\": \"NASA's Mars Helicopter Attached to Mars 2020 Rover \", \"preview\": \"The helicopter will be first aircraft to perform flight tests on another planet.\"}, {\"title\": \"NASA's Curiosity Mars Rover Snaps Its Highest-Resolution Panorama Yet\", \"preview\": \"To go along with the stunning 1.8-billion-pixel image, a new video offers a sweeping view of the Red Planet.\"}, {\"title\": \"Common Questions about InSight's 'Mole'\", \"preview\": \"The following Q&As with members of the team answer some of the most common questions about the burrowing device, part of a science instrument called the Heat Flow and Physical Properties Package (HP3).\"}, {\"title\": \"NASA's Treasure Map for Water Ice on Mars\", \"preview\": \"A new study identifies frozen water just below the Martian surface, where astronauts could easily dig it up.\"}, {\"title\": \"NASA's Perseverance Rover Will Peer Beneath Mars' Surface \", \"preview\": \"The agency's newest rover will use the first ground-penetrating radar instrument on the Martian surface to help search for signs of past microbial life. \"}, {\"title\": \"Naming a NASA Mars Rover Can Change Your Life\", \"preview\": \"Want to name the robotic scientist NASA is sending to Mars in 2020? The student who named Curiosity \\u2014 the rover currently exploring Mars \\u2014 will tell you this is an opportunity worth taking.\"}, {\"title\": \"The Launch Is Approaching for NASA's Next Mars Rover, Perseverance\", \"preview\": \"The Red Planet's surface has been visited by eight NASA spacecraft. The ninth will be the first that includes a roundtrip ticket in its flight plan. \"}, {\"title\": \"NASA-JPL Names 'Rolling Stones Rock' on Mars\", \"preview\": \"NASA's Mars InSight mission honored one of the biggest bands of all time at Pasadena concert.\"}, {\"title\": \"NASA's Mars 2020 Rover Completes Its First Drive\", \"preview\": \"In a 10-plus-hour marathon, the rover steered, turned and drove in 3-foot (1-meter) increments over small ramps.\"}, {\"title\": \"InSight's 'Mole' Team Peers into the Pit\", \"preview\": \"Efforts to save the heat probe continue.\"}, {\"title\": \"NASA's Perseverance Rover 100 Days Out\", \"preview\": \"Mark your calendars: The agency's latest rover has only about 8,640,000 seconds to go before it touches down on the Red Planet, becoming history's next Mars car.\"}]\n"
     ]
    }
   ],
   "source": [
    "# Export data to JSON\n",
    "#import pandas as pd\n",
    "#df = pd.DataFrame(mars_news)\n",
    "#df\n",
    "import json\n",
    "json_mars_news = json.dumps(mars_news)\n",
    "print(json_mars_news)\n",
    "df=pd.read_json(json_mars_news)\n",
    "df.to_csv('mars.csv',index=False)"
   ]
  }
 ],
 "metadata": {
  "kernelspec": {
   "display_name": "Python 3 (ipykernel)",
   "language": "python",
   "name": "python3"
  },
  "language_info": {
   "codemirror_mode": {
    "name": "ipython",
    "version": 3
   },
   "file_extension": ".py",
   "mimetype": "text/x-python",
   "name": "python",
   "nbconvert_exporter": "python",
   "pygments_lexer": "ipython3",
   "version": "3.7.15"
  }
 },
 "nbformat": 4,
 "nbformat_minor": 4
}
